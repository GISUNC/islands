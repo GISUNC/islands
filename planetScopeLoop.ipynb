{
 "cells": [
  {
   "cell_type": "code",
   "execution_count": null,
   "id": "infrared-seeking",
   "metadata": {},
   "outputs": [],
   "source": [
    "## Import libraries\n",
    "import json\n",
    "import glob\n",
    "import os\n",
    "import re \n",
    "import requests\n",
    "import numpy as np\n",
    "import processing\n",
    "import sys\n",
    "import qgis\n",
    "from qgis.core import *\n",
    "from processing.core.Processing import Processing"
   ]
  },
  {
   "cell_type": "code",
   "execution_count": null,
   "id": "conceptual-edition",
   "metadata": {},
   "outputs": [],
   "source": [
    "localPath = \"\"## put your local path "
   ]
  },
  {
   "cell_type": "code",
   "execution_count": null,
   "id": "improving-background",
   "metadata": {},
   "outputs": [],
   "source": [
    "QgsApplication.setPrefixPath('/Applications/QGIS3.16.app', True)\n",
    "qgs = QgsApplication([], False)\n",
    "qgs.initQgis()\n",
    "Processing.initialize()"
   ]
  },
  {
   "cell_type": "code",
   "execution_count": null,
   "id": "velvet-motel",
   "metadata": {},
   "outputs": [],
   "source": [
    "outfile = open(localPATH +'.js', 'a')\n",
    "outfile.write(\"var planetImages = [\")\n",
    "folderPath = \"/Volumes/Projects/NASA/Imagery/Galapagos/PlanetScope\"\n",
    "losFolders = os.listdir(folderPath)\n",
    "\n"
   ]
  },
  {
   "cell_type": "code",
   "execution_count": null,
   "id": "adequate-effect",
   "metadata": {},
   "outputs": [],
   "source": [
    "## find the Tiff and the JSON in PlanetScope\n",
    "for elFolder in losFolders:\n",
    "    path = os.path.join(folderPath,elFolder)\n",
    "    size = 0\n",
    "    max_size = 0\n",
    "    max_file =\"\" \n",
    "    # walking through the entire folder, \n",
    "    # including subdirectories \n",
    "\n",
    "    for folder, subfolders, files in os.walk(path): \n",
    "\n",
    "        # checking the size of each file \n",
    "        for file in files: \n",
    "            size = os.stat(os.path.join( folder, file  )).st_size \n",
    "            match = re.search(\"\\.json$\", file) \n",
    "\n",
    "        # if match is found \n",
    "            if match: \n",
    "                jsFile = os.path.join( folder, file  )\n",
    "    #             print(\"The file ending with .json is:\", file) \n",
    "\n",
    "\n",
    "            # updating maximum size \n",
    "            if size>max_size: \n",
    "                max_size = size \n",
    "                max_file = os.path.join( folder, file ) \n",
    "\n",
    "\n",
    "    ## Opening the JS File and getting the interesting data            \n",
    "    f = open(jsFile, \"r\") \n",
    "    data = json.loads(f.read())\n",
    "\n",
    "    xy = data['geometry']['coordinates']\n",
    "    ID = data['id']\n",
    "    date = data['properties']['acquired']\n",
    "    provider = data['properties']['provider']\n",
    "    cloudCover = data['properties']['cloud_cover']\n",
    "\n",
    "    outJSON = ({\n",
    "        'ID': ID,\n",
    "        'date': date,\n",
    "        'provider': provider,\n",
    "        'cloudCover':cloudCover,\n",
    "        'coordinate':xy \n",
    "    })\n",
    "\n",
    "    outfile.write(str(outJSON))\n",
    "    outfile.write(\",\")\n",
    "    outfile.write(\"\\n\")\n",
    "\n",
    "    newPath = os.path.join(localPath, ID) \n",
    "    os.mkdir(newPath)\n",
    "    rlayer = QgsRasterLayer(max_file, \"myRaster\")\n",
    "    project = QgsProject.instance().addMapLayer(rlayer, True)\n",
    "\n",
    "    transform = QgsCoordinateTransform(rlayer.crs(),\n",
    "                                       QgsCoordinateReferenceSystem(\"EPSG:4326\"), QgsProject.instance())\n",
    "    # transform.transform(rlayer.extent())\n",
    "    processing.run(\"qgis:tilesxyzdirectory\", {\n",
    "        'DPI' : 96, \n",
    "        'EXTENT' : transform.transform(rlayer.extent()), \n",
    "        'METATILESIZE' : 4, \n",
    "        'OUTPUT_DIRECTORY' : newPath, \n",
    "        'OUTPUT_HTML' : localPath+ID+\".html\", \n",
    "        'QUALITY' : 75, \n",
    "        'TILE_FORMAT' : 0, \n",
    "        'TILE_HEIGHT' : 256, \n",
    "        'TILE_WIDTH' : 256, \n",
    "        'TMS_CONVENTION' : False, \n",
    "        'ZOOM_MAX' : 12, \n",
    "        'ZOOM_MIN' : 10 \n",
    "    }) # 'TMS_CONVENTION' : False, \n"
   ]
  },
  {
   "cell_type": "code",
   "execution_count": null,
   "id": "illegal-diabetes",
   "metadata": {},
   "outputs": [],
   "source": [
    "outfile.write(\"]\")\n",
    "outfile.close() "
   ]
  }
 ],
 "metadata": {
  "kernelspec": {
   "display_name": "Python 3",
   "language": "python",
   "name": "python3"
  },
  "language_info": {
   "codemirror_mode": {
    "name": "ipython",
    "version": 3
   },
   "file_extension": ".py",
   "mimetype": "text/x-python",
   "name": "python",
   "nbconvert_exporter": "python",
   "pygments_lexer": "ipython3",
   "version": "3.8.8"
  }
 },
 "nbformat": 4,
 "nbformat_minor": 5
}
